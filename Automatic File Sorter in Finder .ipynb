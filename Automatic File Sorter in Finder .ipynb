{
 "cells": [
  {
   "cell_type": "code",
   "execution_count": 2,
   "id": "5a2fcddc",
   "metadata": {},
   "outputs": [],
   "source": [
    "import os, shutil"
   ]
  },
  {
   "cell_type": "code",
   "execution_count": 3,
   "id": "b573a644",
   "metadata": {},
   "outputs": [],
   "source": [
    "path = r\"/Users/oscarninan/Downloads/Sort/\""
   ]
  },
  {
   "cell_type": "code",
   "execution_count": 44,
   "id": "b6df48bd",
   "metadata": {},
   "outputs": [
    {
     "name": "stdout",
     "output_type": "stream",
     "text": [
      "['.DS_Store', 'IMG_5808.HEIC', 'Invoice-Receipt-201833 (1).pdf', 'status_reports_Thu Apr 13 2023 20 01 38 GMT-0600 (Central Standard Time).csv', 'Invoice-Receipt-202809.pdf', 'Budget+Worksheet.xlsx', 'image.jpg']\n"
     ]
    }
   ],
   "source": [
    "file_names = os.listdir(path)\n",
    "print(file_names)"
   ]
  },
  {
   "cell_type": "code",
   "execution_count": 45,
   "id": "5110af71",
   "metadata": {},
   "outputs": [],
   "source": [
    "folder_names = ['csv files','image files','excel files','pdf files']\n",
    "\n",
    "for folder in folder_names:\n",
    "    if not os.path.exists(path + folder):\n",
    "        os.makedirs(path + folder)\n",
    "        #print(path + folder)\n",
    "\n",
    "for file in file_names:\n",
    "    if '.csv' in file and not os.path.exists(path + 'csv files/' + file):\n",
    "        shutil.move(path + file, path + 'csv files/' + file)\n",
    "    elif ('.jpg') in file and not os.path.exists(path + 'image files/' + file):\n",
    "        shutil.move(path + file, path + 'image files/' + file)\n",
    "    elif ('.HEIC') in file and not os.path.exists(path + 'image files/' + file):\n",
    "        shutil.move(path + file, path + 'image files/' + file)\n",
    "    elif '.pdf' in file and not os.path.exists(path + 'pdf files/' + file):\n",
    "        shutil.move(path + file, path + 'pdf files/' + file)\n",
    "    elif '.xlsx' in file and not os.path.exists(path + 'excel files/' + file):\n",
    "        shutil.move(path + file, path + 'excel files/' + file)"
   ]
  },
  {
   "cell_type": "code",
   "execution_count": null,
   "id": "e5517c91",
   "metadata": {},
   "outputs": [],
   "source": []
  }
 ],
 "metadata": {
  "kernelspec": {
   "display_name": "Python 3 (ipykernel)",
   "language": "python",
   "name": "python3"
  },
  "language_info": {
   "codemirror_mode": {
    "name": "ipython",
    "version": 3
   },
   "file_extension": ".py",
   "mimetype": "text/x-python",
   "name": "python",
   "nbconvert_exporter": "python",
   "pygments_lexer": "ipython3",
   "version": "3.11.4"
  }
 },
 "nbformat": 4,
 "nbformat_minor": 5
}
