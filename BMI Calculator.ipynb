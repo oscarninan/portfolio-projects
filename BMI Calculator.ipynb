{
 "cells": [
  {
   "cell_type": "code",
   "execution_count": 35,
   "id": "4aae56cb",
   "metadata": {},
   "outputs": [
    {
     "name": "stdout",
     "output_type": "stream",
     "text": [
      "Enter your name:Oscar\n",
      "Enter your weight in lbs:176\n",
      "Enter your height in in:67\n",
      "\n",
      "         Oscar         \n",
      "____________________________\n",
      "\n",
      "BMI =  27.56\n",
      "Category: Overweight\n"
     ]
    }
   ],
   "source": [
    "# BMI CALCULATOR\n",
    "# https://www.cdc.gov/nccdphp/dnpao/growthcharts/training/bmiage/page5_2.html#:~:text=Formula%3A%20weight%20(lb)%20%2F,a%20conversion%20factor%20of%20703.\n",
    "# BMI Formula: (weight (lb) / [height (in)]2) x 703\n",
    "\n",
    "name = input(\"Enter your name:\")\n",
    "\n",
    "weight = float(input(\"Enter your weight in lbs:\"))\n",
    "\n",
    "height = float(input(\"Enter your height in in:\"))\n",
    "\n",
    "BMI = (weight/(height**2))*703\n",
    "\n",
    "print('\\n         ' + name+'         ')\n",
    "print('____________________________')\n",
    "\n",
    "\n",
    "if BMI>0:\n",
    "    print('\\nBMI = ',\"%.2f\"%BMI)\n",
    "    if BMI<18.5:\n",
    "        print(\"Category: Underweight\")\n",
    "    elif BMI<=24.9:\n",
    "        print(\"Category: Healthy Weight\")\n",
    "    elif BMI<=29.9:\n",
    "        print(\"Category: Overweight\")\n",
    "    elif BMI>30:\n",
    "        print(\"Category: Obesity\")\n",
    "else:\n",
    "    print(\"Invalid Input.\")"
   ]
  },
  {
   "cell_type": "code",
   "execution_count": null,
   "id": "6267bb71",
   "metadata": {},
   "outputs": [],
   "source": [
    "BMI\tWeight Status\n",
    "Below 18.5\tUnderweight\n",
    "18.5—24.9\tHealthy Weight\n",
    "25.0—29.9\tOverweight\n",
    "30.0 and Above\tObesity"
   ]
  },
  {
   "cell_type": "code",
   "execution_count": null,
   "id": "78677c20",
   "metadata": {},
   "outputs": [],
   "source": []
  },
  {
   "cell_type": "code",
   "execution_count": null,
   "id": "e6e3b529",
   "metadata": {},
   "outputs": [],
   "source": []
  },
  {
   "cell_type": "code",
   "execution_count": null,
   "id": "9dfa5f68",
   "metadata": {},
   "outputs": [],
   "source": []
  },
  {
   "cell_type": "code",
   "execution_count": null,
   "id": "f1a76dbf",
   "metadata": {},
   "outputs": [],
   "source": []
  }
 ],
 "metadata": {
  "kernelspec": {
   "display_name": "Python 3 (ipykernel)",
   "language": "python",
   "name": "python3"
  },
  "language_info": {
   "codemirror_mode": {
    "name": "ipython",
    "version": 3
   },
   "file_extension": ".py",
   "mimetype": "text/x-python",
   "name": "python",
   "nbconvert_exporter": "python",
   "pygments_lexer": "ipython3",
   "version": "3.11.4"
  }
 },
 "nbformat": 4,
 "nbformat_minor": 5
}
